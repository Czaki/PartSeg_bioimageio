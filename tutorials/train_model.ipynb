{
 "cells": [
  {
   "cell_type": "markdown",
   "source": [
    "# How to improve data labeling using deep learn on PartSeg output\n",
    "\n",
    "This tutorial will discuss possibilities for creating a deep learning model based on (semi)automatic segmentation methods' output.\n",
    "\n",
    "The main gain of using (semi)automatic method output is that preparing train and test sets is much faster and cheaper. On the other hand, if the method used is semiautomatic, then having a fully automatic deep learning model is an apparent gain.\n",
    "\n",
    "There are multiple scenarios when having a working deep learning model could help:\n",
    "\n",
    "1) Used (semi)automatic method requires using a given probe or marking objects that are not required in the experiment. Then Segmentation could be done on specially prepared data, but a model train only using the subset of channels. Because some methods have a limited number of channels, it may allow marking and investigating more objects important from the point of scientific question. For example, confocal microscopes allow using only four channels.\n",
    "\n",
    "2) Sometimes, an available method requires some expensive (in the context of time) preprocessing steps like deconvolution.\n",
    "\n",
    "3) Collecting data with a low noise ratio may require access to limited and expensive infrastructure. However, collecting only data needed for the model training may be much more straightforward than collecting all experiment data. Then, the preprocessing phase could add artificial noise before starting the train.\n"
   ],
   "metadata": {
    "collapsed": false
   }
  },
  {
   "cell_type": "code",
   "execution_count": null,
   "outputs": [],
   "source": [],
   "metadata": {
    "collapsed": false
   }
  }
 ],
 "metadata": {
  "kernelspec": {
   "display_name": "Python 3",
   "language": "python",
   "name": "python3"
  },
  "language_info": {
   "codemirror_mode": {
    "name": "ipython",
    "version": 2
   },
   "file_extension": ".py",
   "mimetype": "text/x-python",
   "name": "python",
   "nbconvert_exporter": "python",
   "pygments_lexer": "ipython2",
   "version": "2.7.6"
  }
 },
 "nbformat": 4,
 "nbformat_minor": 0
}
