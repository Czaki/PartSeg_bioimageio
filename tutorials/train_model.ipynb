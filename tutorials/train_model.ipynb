{
 "cells": [
  {
   "cell_type": "markdown",
   "source": [
    "# How to improve data labeling using deep learn on PartSeg output\n",
    "\n",
    "This tutorial will discuss possibilities for creating a deep learning model based on (semi)automatic segmentation methods' output.\n",
    "\n",
    "The main gain of using (semi)automatic method output is that preparing train and test sets is much faster and cheaper. On the other hand, if the method used is semiautomatic, then having a fully automatic deep learning model is an apparent gain.\n",
    "\n",
    "There are multiple scenarios when having a working deep learning model could help:\n",
    "\n",
    "1) Used (semi)automatic method requires using a given probe or marking objects that are not required in the experiment. Then Segmentation could be done on specially prepared data, but a model train only using the subset of channels. Because some methods have a limited number of channels, it may allow marking and investigating more objects important from the point of scientific question. For example, confocal microscopes allow using only four channels.\n",
    "\n",
    "2) Sometimes, an available method requires some expensive (in the context of time) preprocessing steps like deconvolution.\n",
    "\n",
    "3) Collecting data with a low noise ratio may require access to limited and expensive infrastructure. However, collecting only data needed for the model training may be much more straightforward than collecting all experiment data. Then, the preprocessing phase could add artificial noise before starting the train.\n"
   ],
   "metadata": {
    "collapsed": false
   }
  },
  {
   "cell_type": "markdown",
   "source": [
    "It this tutorial we will use [torch_em](https://github.com/constantinpape/torch-em) as a wrapper around [pytorch](https://pytorch.org/). Please read installation [instruction](https://github.com/constantinpape/torch-em#installation)\n",
    "To keep readability of this document part of code will be in `train_util.py` file next to this notebook"
   ],
   "metadata": {
    "collapsed": false
   }
  },
  {
   "cell_type": "code",
   "execution_count": null,
   "outputs": [],
   "source": [
    "import torch\n",
    "import torch_em.transform\n",
    "from torch_em.model import UNet2d\n",
    "\n",
    "from train_util import get_partseg_loader\n"
   ],
   "metadata": {
    "collapsed": false
   }
  },
  {
   "cell_type": "code",
   "execution_count": null,
   "outputs": [],
   "source": [
    "NETWORK_DEPTH=4\n",
    "NETWORK_INITIAL_FEATURES=32\n",
    "PATCH_SIZE=256\n",
    "BATCH_SIZE=8\n",
    "ITERATIONS=5000\n",
    "SAVE_ROOT=\"./checkpoint\""
   ],
   "metadata": {
    "collapsed": false
   }
  },
  {
   "cell_type": "code",
   "execution_count": null,
   "outputs": [],
   "source": [
    "#TODO describe\n",
    "\n",
    "def trapalyzer_label_transform(labels):\n",
    "    one_hot = np.zeros((7,) + labels.shape, dtype=\"float32\")\n",
    "    for i in range(1, 6):\n",
    "        one_hot[i][labels == i] = 1\n",
    "    one_hot[6][labels == 8] = 1  # NET\n",
    "    one_hot[0][(labels == 0) | (labels > 8)] = 1  # Background\n",
    "    return one_hot"
   ],
   "metadata": {
    "collapsed": false
   }
  },
  {
   "cell_type": "code",
   "execution_count": null,
   "outputs": [],
   "source": [
    "def get_train_and_val(data_dir, patch_size, batch_size):\n",
    "    train_loader = get_partseg_loader(\n",
    "        data_dir,\n",
    "        patch_shape=(patch_size, patch_size),\n",
    "        batch_size=batch_size,\n",
    "        split=\"train\",\n",
    "        label_transform=trapalyzer_label_transform,\n",
    "        label_name=\"Labeling\",\n",
    "    )\n",
    "    val_loader = get_partseg_loader(\n",
    "        data_dir,\n",
    "        patch_shape=(patch_size, patch_size),\n",
    "        batch_size=batch_size,\n",
    "        split=\"test\",\n",
    "        label_name=\"Labeling\",\n",
    "        label_transform=trapalyzer_label_transform,\n",
    "    )\n",
    "    return train_loader, val_loader"
   ],
   "metadata": {
    "collapsed": false
   }
  },
  {
   "cell_type": "code",
   "execution_count": null,
   "outputs": [],
   "source": [
    "model = UNet2d(\n",
    "    in_channels=3,\n",
    "    out_channels=7,\n",
    "    depth=NETWORK_DEPTH,\n",
    "    initial_features=NETWORK_INITIAL_FEATURES,\n",
    ")\n",
    "train_loader, val_loader = get_train_and_val(\"data_path\", PATCH_SIZE, BATCH_SIZE)\n",
    "\n",
    "trainer = torch_em.default_segmentation_trainer(\n",
    "    name=\"neutrofile_model\",\n",
    "    model=model,\n",
    "    train_loader=train_loader,\n",
    "    val_loader=val_loader,\n",
    "    learning_rate=1e-4,\n",
    "    device=torch.device(\"cuda\"),\n",
    "    save_root=SAVE_ROOT,\n",
    ")\n",
    "trainer.fit(iterations=ITERATIONS)"
   ],
   "metadata": {
    "collapsed": false
   }
  }
 ],
 "metadata": {
  "kernelspec": {
   "display_name": "Python 3",
   "language": "python",
   "name": "python3"
  },
  "language_info": {
   "codemirror_mode": {
    "name": "ipython",
    "version": 2
   },
   "file_extension": ".py",
   "mimetype": "text/x-python",
   "name": "python",
   "nbconvert_exporter": "python",
   "pygments_lexer": "ipython2",
   "version": "2.7.6"
  }
 },
 "nbformat": 4,
 "nbformat_minor": 0
}
